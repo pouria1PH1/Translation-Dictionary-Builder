{
 "cells": [
  {
   "attachments": {},
   "cell_type": "markdown",
   "metadata": {},
   "source": []
  },
  {
   "cell_type": "code",
   "execution_count": 1,
   "metadata": {},
   "outputs": [],
   "source": [
    "import pandas as pd\n",
    "\n",
    "import json\n",
    "\n",
    "import requests\n",
    "from easygoogletranslate import EasyGoogleTranslate\n",
    "import os"
   ]
  },
  {
   "attachments": {},
   "cell_type": "markdown",
   "metadata": {},
   "source": [
    "find all word in text "
   ]
  },
  {
   "cell_type": "code",
   "execution_count": 2,
   "metadata": {},
   "outputs": [],
   "source": [
    "#find word that have Spelling value\n",
    "\n",
    "your_text=\"\"\"\n",
    "basketball\n",
    "city \n",
    "block\n",
    "\"\"\".split()\n",
    "\n",
    "# no repetitive_words\n",
    "\n",
    "your_text=set(your_text)\n",
    "\n",
    "orginal_words=[]\n",
    "for word in  your_text:\n",
    "    if len(word)>3:\n",
    "        orginal_words+=[word]\n",
    "    \n",
    "\n",
    "\n",
    "\n",
    "\n"
   ]
  },
  {
   "attachments": {},
   "cell_type": "markdown",
   "metadata": {},
   "source": [
    "add non_repetitive_words  to  csv file  just english word  "
   ]
  },
  {
   "attachments": {},
   "cell_type": "markdown",
   "metadata": {},
   "source": [
    "save non Repetitious word "
   ]
  },
  {
   "cell_type": "code",
   "execution_count": 3,
   "metadata": {},
   "outputs": [],
   "source": [
    "\n",
    "\n",
    "def save_non_repetitive_words(words):\n",
    "    \n",
    "    file_unique=\"file_unique_words.txt\"\n",
    "    \n",
    "    filename = \"db_just_en.csv\"\n",
    "    \n",
    "    \n",
    "    # Check if the file already exists\n",
    "    if os.path.isfile(filename):\n",
    "        # Load existing words from CSV file\n",
    "        existing_df = pd.read_csv(filename)\n",
    "        existing_words = set(existing_df[\"English\"].values)\n",
    "    else:\n",
    "        existing_words = set()\n",
    "    \n",
    "    # Filter out duplicates and existing words\n",
    "    unique_words = set(words) - existing_words\n",
    "    \n",
    "    # Create a pandas DataFrame with two columns - word and meaning\n",
    "    df = pd.DataFrame({\"English\": list(unique_words)})\n",
    "    \n",
    "    # Append the DataFrame to the CSV file\n",
    "    df.to_csv(filename, mode=\"a\", header=not os.path.isfile(filename), index=False)\n",
    "    \n",
    "    file=open(file_unique,\"a\")\n",
    "    \n",
    "    for word in unique_words:\n",
    "        file.write(word+\"\\n\")\n",
    "        \n",
    "    file.close()\n",
    "\n",
    "\n",
    "save_non_repetitive_words(orginal_words)\n"
   ]
  },
  {
   "attachments": {},
   "cell_type": "markdown",
   "metadata": {},
   "source": [
    " translate  file_unique_words.txt to persian "
   ]
  },
  {
   "cell_type": "code",
   "execution_count": 4,
   "metadata": {},
   "outputs": [],
   "source": [
    "english_uniq=\"file_unique_words.txt\"\n",
    "\n",
    "\n",
    "\n",
    "text=open(english_uniq,\"r\",encoding=\"utf-8\").read()\n",
    "\n",
    "\n",
    "\n",
    "\n",
    "\n",
    "\n",
    "english_words=text.split(\"\\n\")\n",
    "\n",
    "# clean data \n",
    "\n",
    "for word in english_words:\n",
    "    if word==\"\":\n",
    "        english_words.remove(word)\n",
    "\n",
    "\n",
    "\n",
    "\n",
    "translator = EasyGoogleTranslate(\n",
    "    source_language='en',\n",
    "    target_language='fa',\n",
    "    timeout=10\n",
    ")\n",
    "mean_words = (translator.translate(text)).split(\"\\n\")\n",
    "\n",
    "\n",
    "# clean data \n",
    "\n",
    "for word in mean_words:\n",
    "    if word==\"\":\n",
    "        mean_words.remove(word)\n",
    "\n",
    "\n"
   ]
  },
  {
   "attachments": {},
   "cell_type": "markdown",
   "metadata": {},
   "source": [
    "ready word with meaning for dict_word_anki4.csv"
   ]
  },
  {
   "cell_type": "code",
   "execution_count": 5,
   "metadata": {},
   "outputs": [],
   "source": [
    "\n",
    "english_uniq\n",
    "\n",
    "dict_word_anki=pd.DataFrame({\"English\":(english_words),\"mean\":(mean_words)})\n",
    "\n",
    "\n",
    "dict_word_anki.to_csv(\"dict_word_anki.csv\",index=False)"
   ]
  },
  {
   "attachments": {},
   "cell_type": "markdown",
   "metadata": {},
   "source": [
    "remove temp file"
   ]
  },
  {
   "cell_type": "code",
   "execution_count": 6,
   "metadata": {},
   "outputs": [],
   "source": [
    "\n",
    "os.remove(\"file_unique_words.txt\")\n"
   ]
  },
  {
   "attachments": {},
   "cell_type": "markdown",
   "metadata": {},
   "source": [
    "add word to dict with request to anki"
   ]
  },
  {
   "cell_type": "code",
   "execution_count": 7,
   "metadata": {},
   "outputs": [],
   "source": [
    "\n",
    "\n",
    "# # Set the endpoint URL for the AnkiConnect API\n",
    "# url = \"http://localhost:8765\"\n",
    "\n",
    "# # Define the payload for the request to add a new note\n",
    "\n",
    "\n",
    "# #get 2  list of word en  and persain  \n",
    "\n",
    "# db=pd.read_csv(csv_file)\n",
    "\n",
    "# dict_words={}\n",
    "# for index, row in db.iterrows():\n",
    "#     dict_words[ row['English']]= row['mean']\n",
    "    \n",
    "#     # print(f\"{english_word}: {persian_word}\")\n",
    "    \n",
    "\n",
    "\n",
    "\n",
    "# deckName=\"your dec name\"\n",
    "\n",
    "\n",
    "\n",
    "\n",
    "# for en, pe in dict_words.items():\n",
    "#     payload = {\n",
    "#         \"action\": \"addNote\",\n",
    "#         \"version\": 6,\n",
    "#         \"params\": {\n",
    "#             \"note\": {\n",
    "#                 \"deckName\": deckName,\n",
    "#                 \"modelName\": \"Basic\",\n",
    "#                 \"fields\": {\n",
    "#                     \"Front\": en,\n",
    "#                     \"Back\": pe,\n",
    "#                     \"Sound\": \"\"\n",
    "#                 },\n",
    "#                 \"options\": {\n",
    "#                     \"allowDuplicate\": False\n",
    "#                 },\n",
    "#                 \"tags\": [\n",
    "#                     \"my-tag\"\n",
    "#                 ]\n",
    "#             }\n",
    "#         }\n",
    "#     }\n",
    "\n",
    "    \n",
    "#     response = requests.post(url, data=json.dumps(payload))\n",
    "#     print(response.json())\n",
    "\n",
    "\n",
    "\n",
    "# os.remove(csv_file)"
   ]
  }
 ],
 "metadata": {
  "kernelspec": {
   "display_name": "Python 3",
   "language": "python",
   "name": "python3"
  },
  "language_info": {
   "codemirror_mode": {
    "name": "ipython",
    "version": 3
   },
   "file_extension": ".py",
   "mimetype": "text/x-python",
   "name": "python",
   "nbconvert_exporter": "python",
   "pygments_lexer": "ipython3",
   "version": "3.11.1"
  },
  "orig_nbformat": 4
 },
 "nbformat": 4,
 "nbformat_minor": 2
}
